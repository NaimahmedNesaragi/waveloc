{
 "metadata": {
  "name": "logistic_regression"
 }, 
 "nbformat": 2, 
 "worksheets": [
  {
   "cells": [
    {
     "cell_type": "code", 
     "collapsed": true, 
     "input": [
      "from sklearn.linear_model import LogisticRegression", 
      "from sklearn.svm import LinearSVC, SVC", 
      "from sklearn import preprocessing", 
      "import numpy as np", 
      "import pylab as plt"
     ], 
     "language": "python", 
     "outputs": [], 
     "prompt_number": 248
    }, 
    {
     "cell_type": "code", 
     "collapsed": true, 
     "input": [
      "b=np.ones((60,80,40))", 
      "for i in range(60):", 
      "    for j in range(80):", 
      "        for k in range(20): ", 
      "          if (i-30)*(i-30)+(j-40)*(j-40) + (k-20)*(k-20) < 10*10:", 
      "              b[i,j]=5", 
      "a=b[:,:,20]", 
      "af=a.flatten()"
     ], 
     "language": "python", 
     "outputs": [], 
     "prompt_number": 249
    }, 
    {
     "cell_type": "code", 
     "collapsed": false, 
     "input": [
      "#samples=np.random.randint(0,af.size,200)", 
      "x0=np.round(np.random.randn(200)*10+30)", 
      "x1=np.round(np.random.randn(200)*10+40)", 
      "x2=np.round(np.random.randn(200)*10+20)", 
      "", 
      "#af_samples=af[np.ravel_multi_index((x0.astype(int),x1.astype(int),x2.astype(int)),a.shape,mode='warp')]", 
      "af_samples=af[np.ravel_multi_index((x0.astype(int),x1.astype(int)),a.shape,mode='warp')]", 
      "#x0,x1=np.unravel_index(samples,a.shape)", 
      "y=np.where(af_samples > 2, 1, 0)"
     ], 
     "language": "python", 
     "outputs": [], 
     "prompt_number": 270
    }, 
    {
     "cell_type": "code", 
     "collapsed": false, 
     "input": [
      "plt.plot(x0,x1,'o')", 
      "plt.contour(a.T)"
     ], 
     "language": "python", 
     "outputs": [
      {
       "output_type": "pyout", 
       "prompt_number": 271, 
       "text": [
        "<matplotlib.contour.QuadContourSet instance at 0x112bda5f0>"
       ]
      }, 
      {
       "output_type": "display_data", 
       "png": "[encoded data removed]"
      }
     ], 
     "prompt_number": 271
    }, 
    {
     "cell_type": "code", 
     "collapsed": false, 
     "input": [
      "#X = np.vstack((x0,x1,x2,x0*x0,x1*x1,x2*x2)).T", 
      "scaler_x0 = preprocessing.Scaler().fit(x0)", 
      "scaler_x1 = preprocessing.Scaler().fit(x1)", 
      "x0_sc=scaler_x0.transform(x0)", 
      "x1_sc=scaler_x1.transform(x1)", 
      "X_sc = np.vstack((x0_sc,x1_sc,x0_sc*x0_sc,x1_sc*x1_sc)).T", 
      "#X = np.vstack((x0,x1,x0*x0,x1*x1)).T", 
      "#scaler = preprocessing.Scaler().fit(X)", 
      "#X_sc = scaler.transform(X)", 
      "#X = np.vstack((x0,x1)).T"
     ], 
     "language": "python", 
     "outputs": [], 
     "prompt_number": 286
    }, 
    {
     "cell_type": "code", 
     "collapsed": false, 
     "input": [
      "LR=LinearSVC(C=1.0,dual=False)", 
      "#LR=SVC(kernel='poly', degree=2, C=1.0, probability=False)"
     ], 
     "language": "python", 
     "outputs": [], 
     "prompt_number": 287
    }, 
    {
     "cell_type": "code", 
     "collapsed": false, 
     "input": [
      "LR.fit(X_sc,y)"
     ], 
     "language": "python", 
     "outputs": [
      {
       "output_type": "pyout", 
       "prompt_number": 288, 
       "text": [
        "LinearSVC(C=1.0, class_weight=None, dual=False, fit_intercept=True,", 
        "     intercept_scaling=1, loss='l2', multi_class='ovr', penalty='l2',", 
        "     tol=0.0001, verbose=0)"
       ]
      }
     ], 
     "prompt_number": 288
    }, 
    {
     "cell_type": "code", 
     "collapsed": false, 
     "input": [
      "print LR.coef_"
     ], 
     "language": "python", 
     "outputs": [
      {
       "output_type": "stream", 
       "stream": "stdout", 
       "text": [
        "[[ 0.28048196 -0.40627808 -2.6614517  -2.55062137]]"
       ]
      }
     ], 
     "prompt_number": 289
    }, 
    {
     "cell_type": "code", 
     "collapsed": false, 
     "input": [
      "y_pred=LR.predict(X_sc)", 
      "fit=np.mean(y_pred.ravel() == y.ravel()) * 100", 
      "print fit"
     ], 
     "language": "python", 
     "outputs": [
      {
       "output_type": "stream", 
       "stream": "stdout", 
       "text": [
        "99.5"
       ]
      }
     ], 
     "prompt_number": 290
    }, 
    {
     "cell_type": "code", 
     "collapsed": false, 
     "input": [
      "#x0f,x1f,x2f=np.unravel_index(range(af.size),a.shape)", 
      "x0f,x1f=np.unravel_index(range(af.size),a.shape)", 
      "#Xf = np.vstack((x0f,x1f,x2f,x0f*x0f,x1f*x1f,x2f*x2f)).T ", 
      "x0f_sc=scaler_x0.transform(x0f)", 
      "x1f_sc=scaler_x1.transform(x1f)", 
      "Xf_sc = np.vstack((x0f_sc,x1f_sc,x0f_sc*x0f_sc,x1f_sc*x1f_sc)).T ", 
      "#Xf = np.vstack((x0f,x1f,x0f*x0f,x1f*x1f)).T ", 
      "#Xf_sc=scaler.transform(Xf)", 
      "#Xf = np.vstack((x0f,x1f)).T", 
      "yall=LR.predict(Xf_sc).reshape(a.shape)", 
      "plt.contour(a.T)", 
      "#plt.plot(x0,x1,'o')", 
      "#p=plt.contourf(a.T)", 
      "plt.contour(yall.T)", 
      "#plt.colorbar(p)"
     ], 
     "language": "python", 
     "outputs": [
      {
       "output_type": "pyout", 
       "prompt_number": 291, 
       "text": [
        "<matplotlib.contour.QuadContourSet instance at 0x110c4e908>"
       ]
      }, 
      {
       "output_type": "display_data", 
       "png": "[encoded data removed]"
      }
     ], 
     "prompt_number": 291
    }, 
    {
     "cell_type": "code", 
     "collapsed": true, 
     "input": [], 
     "language": "python", 
     "outputs": [], 
     "prompt_number": 257
    }, 
    {
     "cell_type": "code", 
     "collapsed": true, 
     "input": [], 
     "language": "python", 
     "outputs": [], 
     "prompt_number": 257
    }
   ]
  }
 ]
}