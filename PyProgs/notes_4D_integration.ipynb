{
 "metadata": {
  "name": "notes_4D_integration"
 }, 
 "nbformat": 2, 
 "worksheets": [
  {
   "cells": [
    {
     "cell_type": "code", 
     "collapsed": true, 
     "input": [
      "import scipy.integrate as si", 
      "import numpy as np", 
      "import pylab as plt"
     ], 
     "language": "python", 
     "outputs": [], 
     "prompt_number": 102
    }, 
    {
     "cell_type": "code", 
     "collapsed": true, 
     "input": [
      "def gaussian(sigma,npts,offset=0):", 
      "    x=np.linspace(offset-3*sigma,offset+3*sigma,npts)", 
      "    return x,np.exp(-(x-offset)*(x-offset)/(2*sigma*sigma))"
     ], 
     "language": "python", 
     "outputs": [], 
     "prompt_number": 103
    }, 
    {
     "cell_type": "markdown", 
     "source": [
      "Set up a simple, 1D gaussian function to test integration and normalization."
     ]
    }, 
    {
     "cell_type": "code", 
     "collapsed": true, 
     "input": [
      "x,y=gaussian(1.0,100,offset=2)", 
      "y_int=si.trapz(y,x=x)", 
      "y_norm=y/y_int"
     ], 
     "language": "python", 
     "outputs": [], 
     "prompt_number": 104
    }, 
    {
     "cell_type": "code", 
     "collapsed": false, 
     "input": [
      "plt.plot(x,y_norm)"
     ], 
     "language": "python", 
     "outputs": [
      {
       "output_type": "pyout", 
       "prompt_number": 105, 
       "text": [
        "[<matplotlib.lines.Line2D at 0x10a3bbe50>]"
       ]
      }, 
      {
       "output_type": "display_data", 
       "png": "[encoded data removed]"
      }
     ], 
     "prompt_number": 105
    }, 
    {
     "cell_type": "code", 
     "collapsed": false, 
     "input": [
      "y_int2=si.trapz(y_norm,x=x)", 
      "print 'Integral over normalized function = %.3f'%y_int2"
     ], 
     "language": "python", 
     "outputs": [
      {
       "output_type": "stream", 
       "stream": "stdout", 
       "text": [
        "Integral over normalized function = 1.000"
       ]
      }
     ], 
     "prompt_number": 106
    }, 
    {
     "cell_type": "code", 
     "collapsed": true, 
     "input": [
      "integrand=x*y_norm"
     ], 
     "language": "python", 
     "outputs": [], 
     "prompt_number": 107
    }, 
    {
     "cell_type": "code", 
     "collapsed": false, 
     "input": [
      "plt.plot(x,integrand)"
     ], 
     "language": "python", 
     "outputs": [
      {
       "output_type": "pyout", 
       "prompt_number": 108, 
       "text": [
        "[<matplotlib.lines.Line2D at 0x10a3f5910>]"
       ]
      }, 
      {
       "output_type": "display_data", 
       "png": "[encoded data removed]"
      }
     ], 
     "prompt_number": 108
    }, 
    {
     "cell_type": "code", 
     "collapsed": false, 
     "input": [
      "exp_x=si.trapz(integrand,x=x)", 
      "print '<x> = %.3f'%exp_x"
     ], 
     "language": "python", 
     "outputs": [
      {
       "output_type": "stream", 
       "stream": "stdout", 
       "text": [
        "<x> = 2.000"
       ]
      }
     ], 
     "prompt_number": 109
    }, 
    {
     "cell_type": "markdown", 
     "source": [
      "Now do the same in 2D..."
     ]
    }, 
    {
     "cell_type": "code", 
     "collapsed": true, 
     "input": [
      "def gaussian2D(sigmax1,nptsx1,sigmax2,nptsx2,offsetx1=0,offsetx2=0):", 
      "    x1=np.linspace(offsetx1-3*sigmax1,offsetx1+3*sigmax1,nptsx1)", 
      "    x2=np.linspace(offsetx2-3*sigmax2,offsetx2+3*sigmax2,nptsx2)", 
      "    xx1,xx2=np.meshgrid(x1,x2) # get in xy sequence", 
      "    return x1,x2,np.exp(-((xx1-offsetx1)*(xx1-offsetx1)/(2*sigmax1*sigmax1))-", 
      "                      ((xx2-offsetx2)*(xx2-offsetx2)/(2*sigmax2*sigmax2)))"
     ], 
     "language": "python", 
     "outputs": [], 
     "prompt_number": 110
    }, 
    {
     "cell_type": "code", 
     "collapsed": true, 
     "input": [
      "x1,x2,y=gaussian2D(1.0,100,1.5,150,offsetx1=2,offsetx2=5)"
     ], 
     "language": "python", 
     "outputs": [], 
     "prompt_number": 111
    }, 
    {
     "cell_type": "markdown", 
     "source": [
      "IMPORTANT NOTE : meshgrid returns output in xy order, not ij order.  Current version of numpy does not support the keyword indexing='ij' ", 
      "that is on the online documentation.  So the integration over the first two dimensions is backwards : x2 corresponds to axis 0, and x1 to axis 1."
     ]
    }, 
    {
     "cell_type": "code", 
     "collapsed": true, 
     "input": [
      "y_int=si.trapz(si.trapz(y,x=x2,axis=0),x=x1)", 
      "y_norm=y/y_int"
     ], 
     "language": "python", 
     "outputs": [], 
     "prompt_number": 112
    }, 
    {
     "cell_type": "code", 
     "collapsed": false, 
     "input": [
      "y_norm=y/y_int", 
      "plt.contourf(x1,x2,y)"
     ], 
     "language": "python", 
     "outputs": [
      {
       "output_type": "pyout", 
       "prompt_number": 113, 
       "text": [
        "<matplotlib.contour.QuadContourSet instance at 0x10a42c050>"
       ]
      }, 
      {
       "output_type": "display_data", 
       "png": "[encoded data removed]"
      }
     ], 
     "prompt_number": 113
    }, 
    {
     "cell_type": "code", 
     "collapsed": false, 
     "input": [
      "y_int2=si.trapz(si.trapz(y_norm,x=x2,axis=0),x=x1)", 
      "print 'Integral over normalized 2D function = %.3f'%y_int2"
     ], 
     "language": "python", 
     "outputs": [
      {
       "output_type": "stream", 
       "stream": "stdout", 
       "text": [
        "Integral over normalized 2D function = 1.000"
       ]
      }
     ], 
     "prompt_number": 114
    }, 
    {
     "cell_type": "code", 
     "collapsed": false, 
     "input": [
      "print x1.shape, x2.shape, y_norm.shape", 
      "integrand=x1*y_norm", 
      "print integrand.shape"
     ], 
     "language": "python", 
     "outputs": [
      {
       "output_type": "stream", 
       "stream": "stdout", 
       "text": [
        "(100,) (150,) (150, 100)", 
        "(150, 100)"
       ]
      }
     ], 
     "prompt_number": 115
    }, 
    {
     "cell_type": "code", 
     "collapsed": false, 
     "input": [
      "exp_x1=si.trapz(si.trapz(integrand,x=x2,axis=0),x=x1)", 
      "print '<x1> over 2D function = %.3f'%exp_x1"
     ], 
     "language": "python", 
     "outputs": [
      {
       "output_type": "stream", 
       "stream": "stdout", 
       "text": [
        "<x1> over 2D function = 2.000"
       ]
      }
     ], 
     "prompt_number": 116
    }, 
    {
     "cell_type": "markdown", 
     "source": [
      "To multiply by x2, we need to take the transpose of y_norm..."
     ]
    }, 
    {
     "cell_type": "code", 
     "collapsed": false, 
     "input": [
      "integrand=x2*y_norm.T", 
      "exp_x2=si.trapz(si.trapz(integrand,x=x1,axis=0),x=x2)", 
      "print '<x2> over 2D function = %.3f'%exp_x2"
     ], 
     "language": "python", 
     "outputs": [
      {
       "output_type": "stream", 
       "stream": "stdout", 
       "text": [
        "<x2> over 2D function = 5.000"
       ]
      }
     ], 
     "prompt_number": 117
    }, 
    {
     "cell_type": "markdown", 
     "source": [
      "Now go to 3D - beware of axis order... and of the fact that np.meshgrid only works in 2D :(  So need to generate a dummy integration set for 3D / 4D manually."
     ]
    }, 
    {
     "cell_type": "code", 
     "collapsed": true, 
     "input": [
      "dims=(4,6,8,10)", 
      "grid3D=np.ones(dims)", 
      "x0=np.linspace(0,4,dims[0])", 
      "x1=np.linspace(0,6,dims[1])", 
      "x2=np.linspace(0,8,dims[2])", 
      "x3=np.linspace(0,10,dims[3])", 
      "grid_area=4.0*6*8*10"
     ], 
     "language": "python", 
     "outputs": [], 
     "prompt_number": 363
    }, 
    {
     "cell_type": "code", 
     "collapsed": true, 
     "input": [
      "grid_integral=si.trapz(si.trapz(si.trapz(si.trapz(grid3D,x=x0,axis=0),x=x1,axis=0),x=x2,axis=0),x=x3,axis=0)"
     ], 
     "language": "python", 
     "outputs": [], 
     "prompt_number": 364
    }, 
    {
     "cell_type": "code", 
     "collapsed": false, 
     "input": [
      "print 'Grid area = %.3f, grid integral = %.3f'%(grid_area,grid_integral)"
     ], 
     "language": "python", 
     "outputs": [
      {
       "output_type": "stream", 
       "stream": "stdout", 
       "text": [
        "Grid area = 1920.000, grid integral = 1920.000"
       ]
      }
     ], 
     "prompt_number": 365
    }, 
    {
     "cell_type": "code", 
     "collapsed": false, 
     "input": [
      "grid3D=np.zeros(dims)", 
      "grid3D[1,2,3,7]=2", 
      "grid3D[1,2,4,7]=4  # add something interesting to find in the matrix", 
      "grid3D[1,2,5,7]=2", 
      "my_expx0=x0[1]", 
      "my_expx1=x1[2]", 
      "my_expx2=x2[4]", 
      "my_expx3=x3[7]", 
      "print my_expx0, my_expx1, my_expx2, my_expx3"
     ], 
     "language": "python", 
     "outputs": [
      {
       "output_type": "stream", 
       "stream": "stdout", 
       "text": [
        "1.33333333333 2.4 4.57142857143 7.77777777778"
       ]
      }
     ], 
     "prompt_number": 366
    }, 
    {
     "cell_type": "code", 
     "collapsed": true, 
     "input": [
      "# Always normalize your probability density function", 
      "grid_norm=si.trapz(si.trapz(si.trapz(si.trapz(grid3D,x=x0,axis=0),x=x1,axis=0),x=x2,axis=0),x=x3,axis=0)", 
      "grid3D_norm=grid3D/grid_norm"
     ], 
     "language": "python", 
     "outputs": [], 
     "prompt_number": 367
    }, 
    {
     "cell_type": "markdown", 
     "source": [
      "Use the following idea to make things easier to manipulate: start by computing the marginals, and only then integrate for the expected values. ", 
      "", 
      "$ f(x_0) = \\int f(x_0,x_1,x_2) dx_1 dx_2$ ", 
      "", 
      "so"
     ]
    }, 
    {
     "cell_type": "markdown", 
     "source": [
      "Expected value of $x_0$ $= \\int x_0 f(x_0) dx_0 $"
     ]
    }, 
    {
     "cell_type": "code", 
     "collapsed": false, 
     "input": [
      "# to integrate over x0, first get the marginal probability denity:", 
      "prob_x0=si.trapz(si.trapz(si.trapz(grid3D_norm,x=x1,axis=1),x=x2,axis=1),x=x3,axis=1)", 
      "exp_x0=si.trapz(x0*prob_x0,x=x0)", 
      "plt.plot(x0,prob_x0)", 
      "print '<x0> = %.3f, manually calculated value = %.3f'%(exp_x0,my_expx0)"
     ], 
     "language": "python", 
     "outputs": [
      {
       "output_type": "stream", 
       "stream": "stdout", 
       "text": [
        "<x0> = 1.333, manually calculated value = 1.333"
       ]
      }, 
      {
       "output_type": "display_data", 
       "png": "[encoded data removed]"
      }
     ], 
     "prompt_number": 374
    }, 
    {
     "cell_type": "code", 
     "collapsed": false, 
     "input": [
      "# to integrate over x1, first get the marginal probability denity:", 
      "prob_x1=si.trapz(si.trapz(si.trapz(grid3D_norm,x=x0,axis=0),x=x2,axis=1),x=x3,axis=1)", 
      "exp_x1=si.trapz(x1*prob_x1,x=x1)", 
      "plt.plot(x1,prob_x1)", 
      "print '<x1> = %.3f, manually calculated value = %.3f'%(exp_x1,my_expx1)"
     ], 
     "language": "python", 
     "outputs": [
      {
       "output_type": "stream", 
       "stream": "stdout", 
       "text": [
        "<x1> = 2.400, manually calculated value = 2.400"
       ]
      }, 
      {
       "output_type": "display_data", 
       "png": "[encoded data removed]"
      }
     ], 
     "prompt_number": 377
    }, 
    {
     "cell_type": "code", 
     "collapsed": false, 
     "input": [
      "# to integrate over x2, first get the marginal probability denity:", 
      "prob_x2=si.trapz(si.trapz(si.trapz(grid3D_norm,x=x0,axis=0),x=x1,axis=0),x=x3,axis=1)", 
      "exp_x2=si.trapz(x2*prob_x2,x=x2)", 
      "plt.plot(x2,prob_x2)", 
      "print '<x2> = %.3f, manually calculated value = %.3f'%(exp_x2,my_expx2)"
     ], 
     "language": "python", 
     "outputs": [
      {
       "output_type": "stream", 
       "stream": "stdout", 
       "text": [
        "<x2> = 4.571, manually calculated value = 4.571"
       ]
      }, 
      {
       "output_type": "display_data", 
       "png": "[encoded data removed]"
      }
     ], 
     "prompt_number": 378
    }, 
    {
     "cell_type": "code", 
     "collapsed": false, 
     "input": [
      "# to integrate over x3, first get the marginal probability denity:", 
      "prob_x3=si.trapz(si.trapz(si.trapz(grid3D_norm,x=x0,axis=0),x=x1,axis=0),x=x2,axis=0)", 
      "exp_x3=si.trapz(x3*prob_x3,x=x3)", 
      "plt.plot(x3,prob_x3)", 
      "print '<x3> = %.3f, manually calculated value = %.3f'%(exp_x3,my_expx3)"
     ], 
     "language": "python", 
     "outputs": [
      {
       "output_type": "stream", 
       "stream": "stdout", 
       "text": [
        "<x3> = 7.778, manually calculated value = 7.778"
       ]
      }, 
      {
       "output_type": "display_data", 
       "png": "[encoded data removed]"
      }
     ], 
     "prompt_number": 379
    }, 
    {
     "cell_type": "code", 
     "collapsed": true, 
     "input": [], 
     "language": "python", 
     "outputs": []
    }
   ]
  }
 ]
}