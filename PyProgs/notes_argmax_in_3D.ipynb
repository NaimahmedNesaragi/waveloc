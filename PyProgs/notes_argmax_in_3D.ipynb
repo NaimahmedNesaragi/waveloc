{
 "metadata": {
  "name": "argmax_in_3D"
 }, 
 "nbformat": 2, 
 "worksheets": [
  {
   "cells": [
    {
     "cell_type": "code", 
     "collapsed": true, 
     "input": [
      "import numpy as np"
     ], 
     "language": "python", 
     "outputs": [], 
     "prompt_number": 1
    }, 
    {
     "cell_type": "code", 
     "collapsed": false, 
     "input": [
      "A=np.zeros((7,5,10,3))", 
      "A[2,1,5,0]=3", 
      "A[5,3,9,1]=9", 
      "A[1,2,4,2]=7"
     ], 
     "language": "python", 
     "outputs": [], 
     "prompt_number": 115
    }, 
    {
     "cell_type": "code", 
     "collapsed": false, 
     "input": [
      "B=np.random.rand(7,5,10,3)", 
      "A+=B"
     ], 
     "language": "python", 
     "outputs": [], 
     "prompt_number": 116
    }, 
    {
     "cell_type": "markdown", 
     "source": [
      "To get maximum along time axis :"
     ]
    }, 
    {
     "cell_type": "code", 
     "collapsed": false, 
     "input": [
      "print A.max(0).max(0).max(0)"
     ], 
     "language": "python", 
     "outputs": [
      {
       "output_type": "stream", 
       "stream": "stdout", 
       "text": [
        "[ 3.7082193   9.34595355  7.45816194]"
       ]
      }
     ], 
     "prompt_number": 118
    }, 
    {
     "cell_type": "markdown", 
     "source": [
      "To get coordinates along column 0 (x axis):"
     ]
    }, 
    {
     "cell_type": "code", 
     "collapsed": false, 
     "input": [
      "print A.max(2).max(1).argmax(0)"
     ], 
     "language": "python", 
     "outputs": [
      {
       "output_type": "stream", 
       "stream": "stdout", 
       "text": [
        "[2 5 1]"
       ]
      }
     ], 
     "prompt_number": 134
    }, 
    {
     "cell_type": "markdown", 
     "source": [
      "To get coordinates along column 1 (y axis):"
     ]
    }, 
    {
     "cell_type": "code", 
     "collapsed": false, 
     "input": [
      "print A.max(2).max(0).argmax(0)"
     ], 
     "language": "python", 
     "outputs": [
      {
       "output_type": "stream", 
       "stream": "stdout", 
       "text": [
        "[1 3 2]"
       ]
      }
     ], 
     "prompt_number": 135
    }, 
    {
     "cell_type": "markdown", 
     "source": [
      "To get coordinates along column 2 (z axis):"
     ]
    }, 
    {
     "cell_type": "code", 
     "collapsed": false, 
     "input": [
      "print A.max(1).max(0).argmax(0)"
     ], 
     "language": "python", 
     "outputs": [
      {
       "output_type": "stream", 
       "stream": "stdout", 
       "text": [
        "[5 9 4]"
       ]
      }
     ], 
     "prompt_number": 136
    }, 
    {
     "cell_type": "code", 
     "collapsed": true, 
     "input": [], 
     "language": "python", 
     "outputs": []
    }
   ]
  }
 ]
}